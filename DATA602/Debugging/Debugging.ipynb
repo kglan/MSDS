{
 "cells": [
  {
   "cell_type": "code",
   "execution_count": 4,
   "metadata": {},
   "outputs": [
    {
     "name": "stdout",
     "output_type": "stream",
     "text": [
      "The average score is 95.33333333333333\n",
      "Congratulations!\n",
      "That is a great average!\n"
     ]
    }
   ],
   "source": [
    "# Q1 Fix all the syntax and logical errors in the given source code add comments to explain your reasoning\n",
    "# This program gets three test scores and displays their average.  It congratulates the user if the average is a high score. The high score variable holds the value that is considered a high score.\n",
    "\n",
    "\n",
    "HIGH_SCORE = 95\n",
    " \n",
    "# Get the test scores.\n",
    "test1 = int(input('Enter the score for test 1: '))\n",
    "test2 = int(input('Enter the score for test 2: '))\n",
    "test3 = int(input('Enter the score for test 3: '))\n",
    "\n",
    "# Calculate the average test score.\n",
    "average = ((test1 + test2 + test3) / 3)\n",
    "\n",
    "# Print the average.\n",
    "print('The average score is', average)\n",
    "\n",
    "# If the average is a high score, congratulate the user.\n",
    "if average >= HIGH_SCORE:\n",
    "    print('Congratulations!')\n",
    "    print('That is a great average!')\n",
    "\n",
    " \n"
   ]
  },
  {
   "cell_type": "code",
   "execution_count": 7,
   "metadata": {},
   "outputs": [
    {
     "name": "stdout",
     "output_type": "stream",
     "text": [
      "36\n"
     ]
    }
   ],
   "source": [
    "#Q2\n",
    "#The area of a rectangle is the rectangle’s length times its width. Write a program that asks for the length and width of two rectangles and prints to the user the area of both rectangles.\n",
    "def area(l, w):\n",
    "    print(l * w)\n",
    "area(6,6)"
   ]
  },
  {
   "cell_type": "code",
   "execution_count": 4,
   "metadata": {},
   "outputs": [
    {
     "name": "stdout",
     "output_type": "stream",
     "text": [
      "Happy birthday, Keeno! You are 25 years old today!\n"
     ]
    }
   ],
   "source": [
    "#Q3 \n",
    "#Ask a user to enter their first name and their age and assign it to the variables name and age. \n",
    "#The variable name should be a string and the variable age should be an int.  \n",
    "#Using the variables name and age, print a message to the user stating something along the lines of:\n",
    "# \"Happy birthday, name!  You are age years old today!\"\n",
    "\n",
    "\n",
    "def Birthday():\n",
    "    name = input(\"What is your name? \")\n",
    "    age = int(input(\"What is your age? \"))\n",
    "    print(f\"Happy birthday, {name}! You are {age} years old today!\")\n",
    "\n",
    "Birthday()"
   ]
  }
 ],
 "metadata": {
  "kernelspec": {
   "display_name": "Python 3",
   "language": "python",
   "name": "python3"
  },
  "language_info": {
   "codemirror_mode": {
    "name": "ipython",
    "version": 3
   },
   "file_extension": ".py",
   "mimetype": "text/x-python",
   "name": "python",
   "nbconvert_exporter": "python",
   "pygments_lexer": "ipython3",
   "version": "3.10.9"
  },
  "orig_nbformat": 4,
  "vscode": {
   "interpreter": {
    "hash": "ad6af0ce9ab7d06514138c89cccc91844562e8aea9bca3b6b339494b9fc875c0"
   }
  }
 },
 "nbformat": 4,
 "nbformat_minor": 2
}
