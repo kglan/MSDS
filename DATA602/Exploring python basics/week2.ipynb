{
 "cells": [
  {
   "cell_type": "code",
   "execution_count": 7,
   "metadata": {},
   "outputs": [
    {
     "name": "stdout",
     "output_type": "stream",
     "text": [
      "[]\n",
      "[1, 2, 3, 4, 5]\n"
     ]
    }
   ],
   "source": [
    "# Q1. What will the following code display?\n",
    "numbers = [1, 2, 3, 4, 5]\n",
    "print(numbers[1:-5])\n",
    "# Can you debug and fix the output? The code should return the entire list\n",
    "print(numbers[0:5])\n",
    "\n",
    "\n"
   ]
  },
  {
   "cell_type": "code",
   "execution_count": 1,
   "metadata": {},
   "outputs": [
    {
     "data": {
      "text/plain": [
       "109"
      ]
     },
     "execution_count": 1,
     "metadata": {},
     "output_type": "execute_result"
    }
   ],
   "source": [
    "# Q2. Design a program that asks the user to enter a store’s sales for each day of the\n",
    "# week. The amounts should be stored in a list. Use a loop to calculate the total sales for\n",
    "# the week and display the result.\n",
    "\n",
    "def weeklysales():\n",
    "    sales = []\n",
    "    days = ['Monday', 'Tuesday', 'Wednesday', 'Thursday', 'Friday', 'Saturday', 'Sunday']\n",
    "    for i in days:\n",
    "        sale = int(input(f'What is the store sales for {i}: '))\n",
    "        sales.append(sale)\n",
    "    return(sum(sales))\n",
    "weeklysales()"
   ]
  },
  {
   "cell_type": "code",
   "execution_count": 30,
   "metadata": {},
   "outputs": [
    {
     "name": "stdout",
     "output_type": "stream",
     "text": [
      "['Jamaica', 'Honduras', 'England', 'Ghana', 'The Maldives']\n",
      "['England', 'Ghana', 'Honduras', 'Jamaica', 'The Maldives']\n",
      "['The Maldives', 'Jamaica', 'Honduras', 'Ghana', 'England']\n"
     ]
    }
   ],
   "source": [
    "# Q3. Create a list with at least 5 places you’d like to travel to. Make sure the list isn’t in\n",
    "# alphabetical order\n",
    "# ● Print your list in its original order.\n",
    "# ● Use the sort() function to arrange your list in order and reprint your list.\n",
    "# ● Use the sort(reverse=True) and reprint your list.\n",
    "\n",
    "travel = [ 'Jamaica', 'Honduras', 'England', 'Ghana', 'The Maldives', ]\n",
    "print(travel)\n",
    "print(sorted(travel))\n",
    "print(sorted(travel, reverse=True))"
   ]
  },
  {
   "cell_type": "code",
   "execution_count": 1,
   "metadata": {},
   "outputs": [
    {
     "name": "stdout",
     "output_type": "stream",
     "text": [
      "Room: 10044\n",
      "Instructor: Nick\n",
      "Meeting Time: 6:00 PM\n"
     ]
    }
   ],
   "source": [
    "# Q4. Write a program that creates a dictionary containing course numbers and the room\n",
    "# numbers of the rooms where the courses meet. The program should also create a\n",
    "# dictionary containing course numbers and the names of the instructors that teach each\n",
    "# course. After that, the program should let the user enter a course number, then it should\n",
    "# display the course’s room number, instructor, and meeting time.\n",
    "\n",
    "\n",
    "\n",
    "courses = {'602': ('10044', 'Nick', '6:00 PM'), '605': ('10022', 'John', '7:00pm'), '607': ('10011', 'King', '8:00pm')}\n",
    "\n",
    "course = input(\"Enter a course number: \")\n",
    "\n",
    "if course in courses:\n",
    "    room, instructor, time = courses[course]\n",
    "    print(f\"Room: {room}\\nInstructor: {instructor}\\nMeeting Time: {time}\")\n",
    "else:\n",
    "    print(f\"Course {course} not found.\")\n",
    "\n"
   ]
  },
  {
   "cell_type": "code",
   "execution_count": 18,
   "metadata": {},
   "outputs": [
    {
     "name": "stdout",
     "output_type": "stream",
     "text": [
      "\n",
      " Options: \n",
      "1. Find email\n",
      "2. Add email\n",
      "3. Update email\n",
      "4. Delete email\n",
      "5. Close\n",
      "Keeno's email was updated to keenn\n",
      "\n",
      " Options: \n",
      "1. Find email\n",
      "2. Add email\n",
      "3. Update email\n",
      "4. Delete email\n",
      "5. Close\n",
      "Invalid Reponse\n",
      "\n",
      " Options: \n",
      "1. Find email\n",
      "2. Add email\n",
      "3. Update email\n",
      "4. Delete email\n",
      "5. Close\n"
     ]
    }
   ],
   "source": [
    "# Q5. Write a program that keeps names and email addresses in a dictionary as\n",
    "# key-value pairs. The program should then demonstrate the four options:\n",
    "# ● look up a person’s email address,\n",
    "# ● add a new name and email address,\n",
    "# ● change an existing email address, and\n",
    "# ● delete an existing name and email address.\n",
    "\n",
    "\n",
    "\n",
    "addressbook = {'Keeno' : 'keen0ag@gmail.com'}\n",
    "\n",
    "#finds email\n",
    "def find_email():\n",
    "    name = input(\"Enter name: \")\n",
    "    email = addressbook.get(name)\n",
    "    if name in addressbook:\n",
    "        print(f\"{name}: {email}\")\n",
    "    else:\n",
    "        print(f\"No email in address book for {name}\")\n",
    "\n",
    "# adds email\n",
    "def add_email():\n",
    "    name = input(\"Enter name: \")\n",
    "    email = input(\"Enter email: \")\n",
    "    addressbook[name] = email\n",
    "    print(f\"Email for {name} stored in addressbook as {email} \")\n",
    "\n",
    "#update email\n",
    "def update_email():\n",
    "    name = input(\"Enter name to be updated: \")\n",
    "    email = addressbook.get(name)\n",
    "\n",
    "    if email:\n",
    "        new_email = input(\"Enter new email: \")\n",
    "        addressbook[name] = new_email\n",
    "        print(f\"{name}'s email was updated to {new_email}\")\n",
    "    else:\n",
    "        print(f\"No email exists for {name}\")\n",
    "\n",
    "\n",
    "# delete_email\n",
    "def delete_email():\n",
    "    name = input(\"Enter name: \")\n",
    "    if name in addressbook:\n",
    "        del addressbook[name]\n",
    "        print (f\"{name} was deleted from addressbook\")\n",
    "    else:\n",
    "        print(f\" No email exists for {name}\")\n",
    "\n",
    "while True:\n",
    "    print(\"\\n Options: \")\n",
    "    print(\"1. Find email\")\n",
    "    print(\"2. Add email\")\n",
    "    print(\"3. Update email\")\n",
    "    print(\"4. Delete email\")\n",
    "    print(\"5. Close\")\n",
    "    option = int(input(\"Enter option number: \"))\n",
    "\n",
    "    if option == 1:\n",
    "        find_email()\n",
    "    elif option == 2:\n",
    "        add_email()\n",
    "    elif option == 3:\n",
    "        update_email()\n",
    "    elif option == 4:\n",
    "        delete_email()\n",
    "    elif option == 5:\n",
    "        break\n",
    "    else:\n",
    "        print(\"Invalid Reponse\")"
   ]
  }
 ],
 "metadata": {
  "kernelspec": {
   "display_name": "Python 3",
   "language": "python",
   "name": "python3"
  },
  "language_info": {
   "codemirror_mode": {
    "name": "ipython",
    "version": 3
   },
   "file_extension": ".py",
   "mimetype": "text/x-python",
   "name": "python",
   "nbconvert_exporter": "python",
   "pygments_lexer": "ipython3",
   "version": "3.10.9"
  },
  "orig_nbformat": 4,
  "vscode": {
   "interpreter": {
    "hash": "ad6af0ce9ab7d06514138c89cccc91844562e8aea9bca3b6b339494b9fc875c0"
   }
  }
 },
 "nbformat": 4,
 "nbformat_minor": 2
}
