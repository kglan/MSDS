{
 "cells": [
  {
   "cell_type": "code",
   "execution_count": 1,
   "metadata": {},
   "outputs": [],
   "source": [
    "import pandas as pd\n",
    "import numpy as np"
   ]
  },
  {
   "cell_type": "code",
   "execution_count": 7,
   "metadata": {},
   "outputs": [],
   "source": [
    "#Q1\n",
    "\n",
    "df1= pd.DataFrame(pd.read_csv(\"https://raw.githubusercontent.com/data602sps/datasetspractice/main/salarydata.csv\"))\n",
    "df2= pd.DataFrame(pd.read_csv(\"https://raw.githubusercontent.com/data602sps/datasetspractice/main/nba.csv\"))\n",
    "df3= pd.DataFrame(pd.read_csv(\"https://raw.githubusercontent.com/data602sps/datasetspractice/main/salarydata.csv\"))\n",
    "df4= pd.DataFrame(pd.read_csv(\"https://raw.githubusercontent.com/data602sps/datasetspractice/main/salarydata.csv\"))\n"
   ]
  },
  {
   "cell_type": "code",
   "execution_count": null,
   "metadata": {},
   "outputs": [],
   "source": []
  },
  {
   "cell_type": "code",
   "execution_count": null,
   "metadata": {},
   "outputs": [],
   "source": []
  },
  {
   "cell_type": "code",
   "execution_count": null,
   "metadata": {},
   "outputs": [],
   "source": []
  },
  {
   "cell_type": "code",
   "execution_count": null,
   "metadata": {},
   "outputs": [],
   "source": []
  }
 ],
 "metadata": {
  "kernelspec": {
   "display_name": "Python 3",
   "language": "python",
   "name": "python3"
  },
  "language_info": {
   "codemirror_mode": {
    "name": "ipython",
    "version": 3
   },
   "file_extension": ".py",
   "mimetype": "text/x-python",
   "name": "python",
   "nbconvert_exporter": "python",
   "pygments_lexer": "ipython3",
   "version": "3.9.12"
  },
  "orig_nbformat": 4
 },
 "nbformat": 4,
 "nbformat_minor": 2
}
