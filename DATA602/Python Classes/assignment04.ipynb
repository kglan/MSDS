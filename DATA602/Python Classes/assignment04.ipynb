{
 "cells": [
  {
   "cell_type": "code",
   "execution_count": 18,
   "metadata": {},
   "outputs": [
    {
     "name": "stdout",
     "output_type": "stream",
     "text": [
      "Chase Account\n",
      "Owner: Keeno Glanville\n",
      "Balance: 200\n",
      "No transaction due to overdraft\n",
      "Chase Account\n",
      "Owner: Keeno Glanville\n",
      "Balance: 200\n",
      "Chase Account\n",
      "Owner: Keeno Glanville\n",
      "Balance: 190\n"
     ]
    }
   ],
   "source": [
    "# Q1: Create a class called BankAccount that has four attributes: bankname, firstname,\n",
    "# lastname, and balance.\n",
    "# The default balance should be set to 0.\n",
    "# In addition, create ...\n",
    "# ● A method called deposit() that allows the user to make deposits into their balance.\n",
    "# ● A method called withdrawal() that allows the user to withdraw from their balance.\n",
    "# ● Withdrawal may not exceed the available balance. Hint: consider a conditional argument\n",
    "# in your withdrawal() method.\n",
    "# ● Use the __str__() method in order to display the bank name, owner name, and current\n",
    "# balance.\n",
    "# ● Make a series of deposits and withdrawals to test your class.\n",
    "\n",
    "\n",
    "class BankAccount:\n",
    "    def __init__(self, bankname, firstname, lastname, balance =0):\n",
    "        self.bankname = bankname\n",
    "        self.firstname = firstname\n",
    "        self.lastname = lastname\n",
    "        self.balance = balance\n",
    "\n",
    "\n",
    "    def deposit(self, amount):\n",
    "        self.balance += amount \n",
    "    \n",
    "    def withdrawal(self, amount):\n",
    "        if  amount > self.balance:\n",
    "            print(\"No transaction due to overdraft\")\n",
    "        else:\n",
    "            self.balance -= amount\n",
    "\n",
    "    def __str__(self):\n",
    "        return f\"{self.bankname} Account\\nOwner: {self.firstname} {self.lastname}\\nBalance: {self.balance}\"\n",
    "        \n",
    "money = BankAccount('Chase', 'Keeno', 'Glanville')\n",
    "\n",
    "money.deposit(200)\n",
    "print(money)\n",
    "\n",
    "money.withdrawal(201)\n",
    "print(money)\n",
    "\n",
    "money.withdrawal(10)\n",
    "print(money)"
   ]
  },
  {
   "cell_type": "code",
   "execution_count": 20,
   "metadata": {},
   "outputs": [],
   "source": [
    "# Q2: Create a class Box that has attributes length and width that takes values for length\n",
    "# and width upon construction (instantiation via the constructor).\n",
    "import math\n",
    "class Box: \n",
    "    def __init__(self, length, width):\n",
    "        self.length = length\n",
    "        self.width = width\n",
    "\n",
    "\n",
    "    def render(self):\n",
    "        for i in range(self.width):\n",
    "            print(\"*\" * self.length)\n",
    "\n",
    "    def invert(self):\n",
    "        self.length, self.width = self.width, self.length\n",
    "    \n",
    "    def get_area(self):\n",
    "        return self.length* self.width\n",
    "    \n",
    "    def get_perimeter(legnth, width):\n",
    "        return 2*(self.length + self.width)\n",
    "    \n",
    "    def double(self):\n",
    "        new_box = Box(2*self.length, 2*self.width)\n",
    "        return new_box\n",
    "\n",
    "    def __eq__(self, other):\n",
    "        return self.length == other.length and self.width == other.width\n",
    "    \n",
    "    def print_dim(self):\n",
    "        print(f\"Length: {self.length}, Width: {self.width}\")\n",
    "        \n",
    "    def get_dim(self):\n",
    "        return (self.length, self.width)\n",
    "    \n",
    "    def combine(self, other):\n",
    "        self.length += other.length\n",
    "        self.width += other.width\n",
    "        \n",
    "    def get_hypot(self):\n",
    "        return math.sqrt(self.length**2 + self.width**2)\n",
    "\n",
    "    \n",
    "\n"
   ]
  },
  {
   "cell_type": "code",
   "execution_count": 22,
   "metadata": {},
   "outputs": [
    {
     "name": "stdout",
     "output_type": "stream",
     "text": [
      "Length: 5, Width: 10\n",
      "Length: 3, Width: 4\n",
      "Length: 5, Width: 10\n",
      "False\n",
      "True\n",
      "Length: 10, Width: 20\n",
      "Length: 6, Width: 8\n",
      "Length: 16, Width: 28\n"
     ]
    }
   ],
   "source": [
    "box1 = Box(5, 10)\n",
    "box2 = Box(3, 4)\n",
    "box3 = Box(5, 10)\n",
    "\n",
    "box1.print_dim() \n",
    "box2.print_dim() \n",
    "box3.print_dim()  \n",
    "\n",
    "print(box1 == box2) \n",
    "print(box1 == box3) \n",
    "\n",
    "box1.combine(box3)\n",
    "box1.print_dim() \n",
    "\n",
    "double_box2 = box2.double()\n",
    "double_box2.print_dim()  \n",
    "\n",
    "box1.combine(double_box2)\n",
    "box1.print_dim()  "
   ]
  }
 ],
 "metadata": {
  "kernelspec": {
   "display_name": "Python 3",
   "language": "python",
   "name": "python3"
  },
  "language_info": {
   "codemirror_mode": {
    "name": "ipython",
    "version": 3
   },
   "file_extension": ".py",
   "mimetype": "text/x-python",
   "name": "python",
   "nbconvert_exporter": "python",
   "pygments_lexer": "ipython3",
   "version": "3.10.10"
  },
  "orig_nbformat": 4,
  "vscode": {
   "interpreter": {
    "hash": "ad6af0ce9ab7d06514138c89cccc91844562e8aea9bca3b6b339494b9fc875c0"
   }
  }
 },
 "nbformat": 4,
 "nbformat_minor": 2
}
