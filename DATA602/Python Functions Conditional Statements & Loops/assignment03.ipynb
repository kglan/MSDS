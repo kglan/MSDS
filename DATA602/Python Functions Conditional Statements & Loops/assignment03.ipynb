{
 "cells": [
  {
   "cell_type": "code",
   "execution_count": 7,
   "metadata": {},
   "outputs": [
    {
     "name": "stdout",
     "output_type": "stream",
     "text": [
      "\n",
      " Options: \n",
      "1. Breakfast\n",
      "2. Lunch\n",
      "3. Dinner\n",
      "Invalid Reponse\n"
     ]
    }
   ],
   "source": [
    "# Q1: Write a program that prompts the user for a meal: breakfast, lunch, or dinner. Then using if statements and else statements print the user a message recommending a meal. For example, if the meal was breakfast, you could say something like, “How about some bacon and eggs?”\n",
    "# The user may enter something else in, but you only have to respond to breakfast, lunch, or dinner.\n",
    "while True:\n",
    "    print(\"\\n Options: \")\n",
    "    print(\"1. Breakfast\")\n",
    "    print(\"2. Lunch\")\n",
    "    print(\"3. Dinner\")\n",
    "    #print(\"5. Close\")\n",
    "    option = int(input(\"Enter option number: \"))\n",
    "\n",
    "    if option == 1:\n",
    "        print(\"We recommend the eggs and bacon\")\n",
    "        break\n",
    "    elif option == 2:\n",
    "        print(\"We recommend the ramen noodles\")\n",
    "        break\n",
    "    elif option == 3:\n",
    "        print(\"We recommend the steak and mashed potatoes\")\n",
    "        break\n",
    "    #elif option == 5:\n",
    "        break\n",
    "    else:\n",
    "        print(\"Invalid Reponse\")\n",
    "        break"
   ]
  },
  {
   "cell_type": "code",
   "execution_count": 14,
   "metadata": {},
   "outputs": [
    {
     "name": "stdout",
     "output_type": "stream",
     "text": [
      "Gross pay: $1000.00\n"
     ]
    }
   ],
   "source": [
    "# Q2: The mailroom has asked you to design a simple payroll program that calculates a student employee’s gross pay, including any overtime wages. If any employee works over 20 hours in a week, the mailroom pays them 1.5 times their regular hourly pay rate for all hours over 20. \n",
    "# You should take in the user’s input for the number of hours worked, and their rate of pay.\n",
    "hours_worked = float(input(\"Enter the number of hours worked: \"))\n",
    "hourly_rate = float(input(\"Enter the hourly rate of pay: \"))\n",
    "\n",
    "# Calculate gross pay\n",
    "if hours_worked <= 20:\n",
    "    gross_pay = hours_worked * hourly_rate\n",
    "else:\n",
    "    overtime_hours = hours_worked - 20\n",
    "    regular_hours = 20\n",
    "    gross_pay = (regular_hours * hourly_rate) + (overtime_hours * 1.5 * hourly_rate)\n",
    "\n",
    "# Print the result\n",
    "print(f\"Gross pay: ${gross_pay:.2f}\")\n",
    "\n",
    "\n"
   ]
  },
  {
   "cell_type": "code",
   "execution_count": 28,
   "metadata": {},
   "outputs": [
    {
     "data": {
      "text/plain": [
       "20"
      ]
     },
     "execution_count": 28,
     "metadata": {},
     "output_type": "execute_result"
    }
   ],
   "source": [
    "# Q3: Write a function named times_ten. The function should accept an argument and display the product of its argument multiplied times 10.\n",
    "def times_ten(x):\n",
    "    if type(x) == int:\n",
    "        return x *10\n",
    "    else:\n",
    "        return \"Error: Input and integer\"\n",
    "times_ten(2)\n"
   ]
  },
  {
   "cell_type": "code",
   "execution_count": 12,
   "metadata": {},
   "outputs": [
    {
     "name": "stdout",
     "output_type": "stream",
     "text": [
      "The total calories you ate today: 800.00\n"
     ]
    }
   ],
   "source": [
    "#Q4: Find the errors, debug the program, and then execute to show the output.\n",
    "\n",
    "def main():\n",
    "      Calories1 = int(input( \"How many calories are in the first food?\"))\n",
    "      Calories2 = int(input( \"How many calories are in the second food?\"))\n",
    "      showCalories(Calories1, Calories2)\n",
    "\n",
    "def showCalories(Calories1, Calories2):   \n",
    "   print(\"The total calories you ate today: {:.2f}\". format(Calories1 + Calories2))\n",
    "\n",
    "main()\n"
   ]
  },
  {
   "cell_type": "code",
   "execution_count": 1,
   "metadata": {},
   "outputs": [
    {
     "name": "stdout",
     "output_type": "stream",
     "text": [
      "93.84460105853213\n"
     ]
    }
   ],
   "source": [
    "# Q5: Write a program that uses any loop (while or for) that calculates the total of the following series of numbers:\n",
    "#          1/30 + 2/29 + 3/28 ............. + 30/1\n",
    "\n",
    "total = 0\n",
    "for i in range(1, 31):\n",
    "    total += i / (31 - i)\n",
    "print(total) "
   ]
  },
  {
   "cell_type": "code",
   "execution_count": 13,
   "metadata": {},
   "outputs": [
    {
     "data": {
      "text/plain": [
       "10.0"
      ]
     },
     "execution_count": 13,
     "metadata": {},
     "output_type": "execute_result"
    }
   ],
   "source": [
    "# Q6: Write a function that computes the area of a triangle given its base and height.\n",
    "# The formula for an area of a triangle is:\n",
    "# AREA = 1/2 * BASE * HEIGHT\n",
    "\n",
    "# For example, if the base was 5 and the height was 4, the area would be 10.\n",
    "# triangle_area(5, 4)   # should print 10\n",
    "\n",
    "def area(b,h):\n",
    "    return (b*h)/2\n",
    "area(5,4)"
   ]
  }
 ],
 "metadata": {
  "kernelspec": {
   "display_name": "Python 3",
   "language": "python",
   "name": "python3"
  },
  "language_info": {
   "codemirror_mode": {
    "name": "ipython",
    "version": 3
   },
   "file_extension": ".py",
   "mimetype": "text/x-python",
   "name": "python",
   "nbconvert_exporter": "python",
   "pygments_lexer": "ipython3",
   "version": "3.10.9"
  },
  "orig_nbformat": 4,
  "vscode": {
   "interpreter": {
    "hash": "ad6af0ce9ab7d06514138c89cccc91844562e8aea9bca3b6b339494b9fc875c0"
   }
  }
 },
 "nbformat": 4,
 "nbformat_minor": 2
}
