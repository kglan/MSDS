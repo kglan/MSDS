{
 "cells": [
  {
   "cell_type": "code",
   "execution_count": 3,
   "metadata": {},
   "outputs": [
    {
     "name": "stdout",
     "output_type": "stream",
     "text": [
      "area : 15  Perimeter : 16\n"
     ]
    }
   ],
   "source": [
    "# 1. Write a function to calculate the area and perimeter of a rectangle.\n",
    "\n",
    "def area_perimeter(l,w):\n",
    "    area = l*w\n",
    "    peri = 2*l + 2*w\n",
    "    print(f\"area : {area}  Perimeter : {peri}\")\n",
    "area_perimeter(3,5)"
   ]
  },
  {
   "cell_type": "code",
   "execution_count": 8,
   "metadata": {},
   "outputs": [
    {
     "name": "stdout",
     "output_type": "stream",
     "text": [
      "55 is an odd number\n"
     ]
    }
   ],
   "source": [
    "\n",
    "# 2. Write a function to check if a number is even or not.  The function should indicate to the user even or odd.\n",
    "def evenodd(n):\n",
    "    if n%2 == 0:\n",
    "        print(f\"{n} is an even number\")\n",
    "    else:\n",
    "        print(f\"{n} is an odd number\")\n",
    "\n",
    "evenodd(55)"
   ]
  },
  {
   "cell_type": "code",
   "execution_count": 12,
   "metadata": {},
   "outputs": [
    {
     "name": "stdout",
     "output_type": "stream",
     "text": [
      "# of upper case chatacters: 4\n",
      "# of lower case characters: 3\n"
     ]
    }
   ],
   "source": [
    "\n",
    "# 3. Write a Python function that accepts a string and calculate the number of upper case letters and lower case letters.\n",
    "\n",
    "string =  'CUNY sps'\n",
    "# # of upper case characters: 4\n",
    "# # of lower case characters: 3\n",
    "def uplowcount(string):\n",
    "    up = 0\n",
    "    low = 0\n",
    "    for char in string:\n",
    "        if char.isupper():\n",
    "            up += 1\n",
    "        elif char.islower():\n",
    "            low += 1\n",
    "    print(f\"# of upper case chatacters: {up}\")\n",
    "    print(f\"# of lower case characters: {low}\")\n",
    "uplowcount(string)"
   ]
  },
  {
   "cell_type": "code",
   "execution_count": 15,
   "metadata": {},
   "outputs": [
    {
     "data": {
      "text/plain": [
       "8"
      ]
     },
     "execution_count": 15,
     "metadata": {},
     "output_type": "execute_result"
    }
   ],
   "source": [
    "# 4. Write a Python function to sum all the numbers in a list\n",
    "def sumlist(list):\n",
    "    return sum(list)\n",
    "list8 = [1,1,1,1,1,1,1,1]\n",
    "\n",
    "sumlist(list8)"
   ]
  },
  {
   "cell_type": "code",
   "execution_count": 20,
   "metadata": {},
   "outputs": [
    {
     "name": "stdout",
     "output_type": "stream",
     "text": [
      "This is global variable\n",
      "this is local variable\n"
     ]
    },
    {
     "ename": "NameError",
     "evalue": "name 'l' is not defined",
     "output_type": "error",
     "traceback": [
      "\u001b[1;31m---------------------------------------------------------------------------\u001b[0m",
      "\u001b[1;31mNameError\u001b[0m                                 Traceback (most recent call last)",
      "Cell \u001b[1;32mIn[20], line 11\u001b[0m\n\u001b[0;32m      9\u001b[0m \u001b[38;5;28mprint\u001b[39m(globalvar)\n\u001b[0;32m     10\u001b[0m local()\n\u001b[1;32m---> 11\u001b[0m \u001b[38;5;28mprint\u001b[39m(\u001b[43ml\u001b[49m)\n",
      "\u001b[1;31mNameError\u001b[0m: name 'l' is not defined"
     ]
    }
   ],
   "source": [
    "# 5. Create a function that shows an example of global vs local variables.\n",
    "\n",
    "globalvar ='This is global variable'\n",
    "\n",
    "def local():\n",
    "    l = 'this is local variable'\n",
    "    print(l)\n",
    "\n",
    "print(globalvar)\n",
    "local()\n",
    "print(l)"
   ]
  },
  {
   "cell_type": "code",
   "execution_count": 21,
   "metadata": {},
   "outputs": [
    {
     "data": {
      "text/plain": [
       "40"
      ]
     },
     "execution_count": 21,
     "metadata": {},
     "output_type": "execute_result"
    }
   ],
   "source": [
    "# 6. Write a Python program to create a function that takes one argument, and that argument will be multiplied with an unknown given number.\n",
    "def mul(x):\n",
    "    unknown = 5\n",
    "    return x * unknown\n",
    "mul(8)\n"
   ]
  }
 ],
 "metadata": {
  "kernelspec": {
   "display_name": "Python 3.10.6 64-bit",
   "language": "python",
   "name": "python3"
  },
  "language_info": {
   "codemirror_mode": {
    "name": "ipython",
    "version": 3
   },
   "file_extension": ".py",
   "mimetype": "text/x-python",
   "name": "python",
   "nbconvert_exporter": "python",
   "pygments_lexer": "ipython3",
   "version": "3.10.6"
  },
  "orig_nbformat": 4,
  "vscode": {
   "interpreter": {
    "hash": "369f2c481f4da34e4445cda3fffd2e751bd1c4d706f27375911949ba6bb62e1c"
   }
  }
 },
 "nbformat": 4,
 "nbformat_minor": 2
}
