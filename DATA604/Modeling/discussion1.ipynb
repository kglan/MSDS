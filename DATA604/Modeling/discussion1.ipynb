{
 "cells": [
  {
   "cell_type": "code",
   "execution_count": 3,
   "metadata": {},
   "outputs": [
    {
     "name": "stdout",
     "output_type": "stream",
     "text": [
      "Total number of coin flips: 1000\n",
      "Total number of heads: 475\n",
      "Total number of tails: 525\n"
     ]
    }
   ],
   "source": [
    "import random\n",
    "\n",
    "def coin_flip():\n",
    "    # Simulate a coin flip\n",
    "    result = random.choice(['Heads', 'Tails'])\n",
    "    return result\n",
    "\n",
    "def run_simulation(num_flips):\n",
    "    # Run the simulation for the specified number of coin flips\n",
    "    heads_count = 0\n",
    "    tails_count = 0\n",
    "    \n",
    "    for _ in range(num_flips):\n",
    "        result = coin_flip()\n",
    "        if result == 'Heads':\n",
    "            heads_count += 1\n",
    "        else:\n",
    "            tails_count += 1\n",
    "    \n",
    "    return heads_count, tails_count\n",
    "\n",
    "for _ in range(num_simulations):\n",
    "    heads, tails = run_simulation(1)\n",
    "    total_heads += heads\n",
    "    total_tails += tails\n",
    "\n",
    "# Print the results\n",
    "print(f\"Total number of coin flips: {num_simulations}\")\n",
    "print(f\"Total number of heads: {total_heads}\")\n",
    "print(f\"Total number of tails: {total_tails}\")"
   ]
  }
 ],
 "metadata": {
  "kernelspec": {
   "display_name": "sps620env",
   "language": "python",
   "name": "python3"
  },
  "language_info": {
   "codemirror_mode": {
    "name": "ipython",
    "version": 3
   },
   "file_extension": ".py",
   "mimetype": "text/x-python",
   "name": "python",
   "nbconvert_exporter": "python",
   "pygments_lexer": "ipython3",
   "version": "3.10.9"
  },
  "orig_nbformat": 4
 },
 "nbformat": 4,
 "nbformat_minor": 2
}
