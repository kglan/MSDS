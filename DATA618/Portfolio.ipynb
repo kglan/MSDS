{
 "cells": [
  {
   "cell_type": "markdown",
   "metadata": {},
   "source": [
    "# CUNY MSDS DATA618 - Quantative Finance\n",
    "\n",
    "## Week 3 : Portfolio \n",
    "\n",
    "### Keeno Glanville\n",
    "---------------------\n",
    "You are a 37-year-old bond trader in a major investment firm. Your investment portfolio, largely holding high return equities is valued today at $6.2 M. You have just read Jamie Dimon's financial hurricane warning and decided to rebalance your portfolio.\n"
   ]
  },
  {
   "cell_type": "markdown",
   "metadata": {},
   "source": [
    "# Random number generator\n",
    "The random number generator was not needed as we were able to get the assignments from the professor instead of randomly choosing.\n"
   ]
  },
  {
   "cell_type": "markdown",
   "metadata": {},
   "source": [
    "# Assumptions\n",
    "Since I am a bond trader that currenlty has high return equities at 6.2mil, I will need to reshuffle my portfolio to incorporate bonds to give more stability to the portfolio.\n",
    "My age suggest I am still trying to grow my career and portfolios strongly at the same time"
   ]
  },
  {
   "cell_type": "code",
   "execution_count": null,
   "metadata": {},
   "outputs": [],
   "source": [
    "#"
   ]
  }
 ],
 "metadata": {
  "language_info": {
   "name": "python"
  }
 },
 "nbformat": 4,
 "nbformat_minor": 2
}
