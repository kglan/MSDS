{
 "cells": [
  {
   "cell_type": "markdown",
   "metadata": {},
   "source": [
    "# CUNY MSDS DATA618 - Quantative Finance\n",
    "\n",
    "## Week 3 : Portfolio \n",
    "\n",
    "### Keeno Glanville\n",
    "---------------------\n",
    "You are a 37-year-old bond trader in a major investment firm. Your investment portfolio, largely holding high return equities is valued today at $6.2 M. You have just read Jamie Dimon's financial hurricane warning and decided to rebalance your portfolio."
   ]
  },
  {
   "cell_type": "code",
   "execution_count": null,
   "metadata": {},
   "outputs": [],
   "source": [
    "import pandas as pd\n",
    "import numpy as np\n",
    "import matplotlib.pyplot as plt\n",
    "import plotly.express as px\n",
    "import seaborn as sns\n",
    "import scipy.stats\n",
    "from pandas_datareader import data\n",
    "import yfinance as yf\n",
    "from var import VaR\n",
    "from pandas_datareader import data as pdr"
   ]
  },
  {
   "cell_type": "code",
   "execution_count": null,
   "metadata": {},
   "outputs": [],
   "source": [
    "portfolio = pd.read_csv('https://raw.githubusercontent.com/kglan/MSDS/main/DATA618/portfolio.csv')\n",
    "portfolio = portfolio[:-3]\n",
    "portfolio.head(10)"
   ]
  },
  {
   "cell_type": "code",
   "execution_count": null,
   "metadata": {},
   "outputs": [],
   "source": [
    "\n",
    "#Calculate weights \n",
    "# Convert the 'Price' column to a numeric value\n",
    "tickers = ['AAPL', 'AMZN', 'MSFT', 'GOOGL', 'META', 'TSLA', 'NVDA', 'AMD', 'JPM', 'JNJ', 'V', 'PG', 'JCI', 'GE', 'KO', 'VZ', 'BA', 'T', 'PFE', 'NFLX', 'BABA', 'INTC', 'DIS', 'XOM', 'F', 'GS', 'HD', 'IBM', 'SBUX', 'CSCO', 'LQD', 'HYG', 'IEF', 'BND', 'SHY', 'VCSH', 'BKLN', 'TIP', 'SCHP', 'TLT']\n",
    "\n",
    "portfolio['Price'] = portfolio['Price'].str.replace('$', '').str.replace(',', '').astype(float)\n",
    "\n",
    "# Calculate the weight for each asset\n",
    "portfolio['Amount'] = portfolio['Amount'].str.replace('$', '').str.replace(',', '').astype(float)\n",
    "portfolio['weight'] = portfolio['Amount'] / portfolio['Amount'].sum()\n",
    "portfolio.head()"
   ]
  },
  {
   "cell_type": "code",
   "execution_count": null,
   "metadata": {},
   "outputs": [],
   "source": [
    "weights = portfolio['Amount'] / portfolio['Amount'].sum()\n",
    "w = {ticker: weight for ticker, weight in zip(tickers, weights)}\n",
    "first_5_values = {k: v for k, v in list(w.items())[:5]}\n",
    "first_5_values"
   ]
  },
  {
   "cell_type": "code",
   "execution_count": null,
   "metadata": {},
   "outputs": [],
   "source": [
    "yf.pdr_override()  # This sets Yahoo Finance as the data source for DataReader\n",
    "\n",
    "# Date Range for portfolio\n",
    "start_date = '2023-09-12'\n",
    "end_date = '2023-10-08'\n"
   ]
  },
  {
   "cell_type": "code",
   "execution_count": null,
   "metadata": {},
   "outputs": [],
   "source": [
    "data = pdr.DataReader(tickers, start=start_date, end=end_date)\n"
   ]
  },
  {
   "cell_type": "code",
   "execution_count": null,
   "metadata": {},
   "outputs": [],
   "source": [
    "data['Close']\n"
   ]
  },
  {
   "cell_type": "code",
   "execution_count": null,
   "metadata": {},
   "outputs": [],
   "source": [
    "pivoted = data['Close']\n",
    "pivoted"
   ]
  },
  {
   "cell_type": "markdown",
   "metadata": {},
   "source": [
    "# Portfolio Variance\n",
    "A measuree of dispursion around an expected value\n",
    "\n",
    "$$\\sigma^2(R_p) = w_1w_1\\sigma^2(R_1) + w_1w_2COV(R_1,R_2) + w_2w_2\\sigma^2(R_2) + w_2w_1COV(R_1,R_2)$$\n",
    "$$\\sigma^2(R_p) = \\sum_{i=1}^n\\sum_{j=1}^nw_iw_jCOV(R_i, R_j)$$"
   ]
  },
  {
   "cell_type": "code",
   "execution_count": null,
   "metadata": {},
   "outputs": [],
   "source": [
    "# Individual Asset Variance\n",
    "returns =pivoted.pct_change()\n",
    "var_ret=returns.var()\n",
    "portfolio['Variance'] = var_ret.reindex(portfolio['Ticker']).values\n",
    "var_ret"
   ]
  },
  {
   "cell_type": "code",
   "execution_count": null,
   "metadata": {},
   "outputs": [],
   "source": [
    "# Individual Standard Deviation/Volatility\n",
    "\n",
    "sd_ret = np.sqrt(var_ret)\n",
    "portfolio['Volatility'] = sd_ret.reindex(portfolio['Ticker']).values\n",
    "sd_ret"
   ]
  },
  {
   "cell_type": "markdown",
   "metadata": {},
   "source": [
    "# Portfolio Variance with Correlation and Covariance\n",
    "It is nice to try and get an understanding of the individual stock however we see that we want to get an understanding of the stock but we need to understand how our portfolio factors in"
   ]
  },
  {
   "cell_type": "code",
   "execution_count": null,
   "metadata": {},
   "outputs": [],
   "source": [
    "cov_matrix= pivoted.pct_change().apply(lambda x: np.log(1+x)).cov()\n",
    "cov_matrix"
   ]
  },
  {
   "cell_type": "code",
   "execution_count": null,
   "metadata": {},
   "outputs": [],
   "source": [
    "# Portfolio Correlation Matrix\n",
    "cov_matrix.mul(w, axis=0).mul(w,axis=1)"
   ]
  },
  {
   "cell_type": "code",
   "execution_count": null,
   "metadata": {},
   "outputs": [],
   "source": [
    "p_var= cov_matrix.mul(w, axis=0).mul(w,axis=1).sum().sum()\n",
    "p_var"
   ]
  },
  {
   "cell_type": "markdown",
   "metadata": {},
   "source": [
    "# Portfolio Standard Deviation\n",
    "$$\\sigma(R_p) = \\sqrt{\\sigma^2(R_p)}$$"
   ]
  },
  {
   "cell_type": "code",
   "execution_count": null,
   "metadata": {},
   "outputs": [],
   "source": [
    "# Portfolio Standard Deviation\n",
    "p_sd= np.sqrt(p_var)\n",
    "p_sd"
   ]
  },
  {
   "cell_type": "code",
   "execution_count": null,
   "metadata": {},
   "outputs": [],
   "source": [
    "annual_p_sd= p_sd*np.sqrt(250)\n",
    "annual_p_sd"
   ]
  },
  {
   "cell_type": "markdown",
   "metadata": {},
   "source": [
    "# Portfolio Expected Return\n",
    "In order to work with Expected Returns we must work with annual values"
   ]
  },
  {
   "cell_type": "code",
   "execution_count": null,
   "metadata": {},
   "outputs": [],
   "source": [
    "a_start='2014-01-01'\n",
    "a_end = '2023-10-08'\n",
    "a_data = pdr.DataReader(tickers, start=a_start, end=a_end)\n",
    "a_data = a_data['Close']"
   ]
  },
  {
   "cell_type": "code",
   "execution_count": null,
   "metadata": {},
   "outputs": [],
   "source": [
    "df= a_data.resample('Y').last().pct_change()\n",
    "df"
   ]
  },
  {
   "cell_type": "code",
   "execution_count": null,
   "metadata": {},
   "outputs": [],
   "source": [
    "e_r = df.mean()\n",
    "portfolio['Expected Return'] = e_r.reindex(portfolio['Ticker']).values\n",
    "\n",
    "cash_index = portfolio[portfolio['Ticker'] == 'Cash'].index[0]\n",
    "portfolio.at[cash_index, 'Expected Return'] = 0\n",
    "portfolio.at[cash_index, 'Variance'] = 0\n",
    "portfolio.at[cash_index, 'Volatility'] = 0\n",
    "\n",
    "e_r\n"
   ]
  },
  {
   "cell_type": "code",
   "execution_count": null,
   "metadata": {},
   "outputs": [],
   "source": [
    "# Portfolio Expected Return\n",
    "p_e_r=(e_r* pd.Series(w)).sum()\n",
    "p_e_r"
   ]
  },
  {
   "cell_type": "code",
   "execution_count": null,
   "metadata": {},
   "outputs": [],
   "source": [
    "expected_return = portfolio['Expected Return']\n",
    "volatility = portfolio['Volatility']\n",
    "tickerz = portfolio['Ticker']\n",
    "# Create a scatter plot\n",
    "plt.figure(figsize=(15, 6))\n",
    "plt.scatter(volatility, expected_return, c=portfolio['Subtype'].factorize()[0], cmap='viridis', marker='o', s=100)\n",
    "\n",
    "\n",
    "# Label the points with the asset ticker or name\n",
    "for i, ticker in enumerate(tickerz):\n",
    "    plt.annotate(ticker, (volatility[i], expected_return[i]), textcoords=\"offset points\", xytext=(0, 10), ha='center')\n",
    "\n",
    "plt.title('Expected Return vs. Volatility')\n",
    "plt.xlabel('Volatility')\n",
    "plt.ylabel('Expected Return')\n",
    "plt.grid(True)\n",
    "\n",
    "# Show the plot\n",
    "plt.show()"
   ]
  },
  {
   "cell_type": "code",
   "execution_count": null,
   "metadata": {},
   "outputs": [],
   "source": [
    "expected_return = portfolio['Expected Return']\n",
    "volatility = portfolio['Volatility']\n",
    "tickerz = portfolio['Ticker']\n",
    "# Create a scatter plot\n",
    "plt.figure(figsize=(15, 6))\n",
    "plt.scatter(volatility, expected_return, c=portfolio['Subtype'].factorize()[0], cmap='viridis', marker='o', s=100)\n",
    "\n",
    "\n",
    "# Label the points with the asset ticker or name\n",
    "for i, ticker in enumerate(tickerz):\n",
    "    plt.annotate(ticker, (volatility[i], expected_return[i]), textcoords=\"offset points\", xytext=(0, 10), ha='center')\n",
    "\n",
    "plt.title('Expected Return vs. Volatility')\n",
    "plt.xlabel('Volatility')\n",
    "plt.ylabel('Expected Return')\n",
    "plt.grid(True)\n",
    "\n",
    "\n",
    "plt.scatter(p_sd, p_e_r, color='red', marker='o', s=100)\n",
    "plt.annotate(\"Portfolio\", (p_sd, p_e_r), textcoords=\"offset points\", xytext=(0, 10), ha='center', color='red')\n",
    "\n",
    "# Show the plot\n",
    "plt.show()"
   ]
  },
  {
   "cell_type": "markdown",
   "metadata": {},
   "source": [
    "# Sharpe Ratio\n",
    "$$Sharpe Ratio = \\frac{E(R_i)-rf}{\\sigma_i}$$"
   ]
  },
  {
   "cell_type": "code",
   "execution_count": null,
   "metadata": {},
   "outputs": [],
   "source": [
    "# Risk free rate utilizing US treasuery yield -> 5.47%\n",
    "rf=0.0547"
   ]
  },
  {
   "cell_type": "code",
   "execution_count": null,
   "metadata": {},
   "outputs": [],
   "source": [
    "portfolio['Sharpe'] = portfolio['Expected Return'].sub(rf).div(portfolio['Volatility'])\n",
    "portfolio.head()"
   ]
  },
  {
   "cell_type": "code",
   "execution_count": null,
   "metadata": {},
   "outputs": [],
   "source": [
    "\n",
    "# Create a scatter plot of Sharpe Ratios\n",
    "plt.figure(figsize=(15, 6))\n",
    "plt.scatter(portfolio['Volatility'], portfolio['Expected Return'], c=portfolio['Sharpe'], cmap='viridis', s=100)\n",
    "plt.xlabel('Volatility')\n",
    "plt.ylabel('Expected Return')\n",
    "plt.title('Expected Return vs. Volatility with Sharpe Ratios')\n",
    "plt.colorbar(label='Sharpe Ratio')\n",
    "plt.grid(True)\n",
    "\n",
    "# Label points with the asset ticker\n",
    "for i, ticker in enumerate(portfolio['Ticker']):\n",
    "    plt.annotate(ticker, (portfolio['Volatility'][i], portfolio['Expected Return'][i]), textcoords=\"offset points\", xytext=(0, 10), ha='center')\n",
    "\n",
    "plt.show()"
   ]
  },
  {
   "cell_type": "code",
   "execution_count": null,
   "metadata": {},
   "outputs": [],
   "source": [
    "# Create a scatter plot of Sharpe Ratios vs. Asset Weights\n",
    "plt.figure(figsize=(15, 6))\n",
    "plt.scatter(portfolio['weight'], portfolio['Sharpe'], c=portfolio['Sharpe'],cmap='viridis', s=100)\n",
    "plt.xlabel('Asset Weight')\n",
    "plt.ylabel('Sharpe Ratio')\n",
    "plt.title('Sharpe Ratio vs. Asset Weight')\n",
    "plt.grid(True)\n",
    "\n",
    "# Label points with the asset ticker\n",
    "for i, ticker in enumerate(portfolio['Ticker']):\n",
    "    plt.annotate(ticker, (portfolio['weight'][i], portfolio['Sharpe'][i]), textcoords=\"offset points\", xytext=(0, 10), ha='center')\n",
    "\n",
    "plt.show()"
   ]
  },
  {
   "cell_type": "markdown",
   "metadata": {},
   "source": [
    "# Volume Weighted Average Price (VWAP)"
   ]
  },
  {
   "cell_type": "code",
   "execution_count": null,
   "metadata": {},
   "outputs": [],
   "source": [
    "vwap_high =  data['High']\n",
    "vwap_high"
   ]
  },
  {
   "cell_type": "code",
   "execution_count": null,
   "metadata": {},
   "outputs": [],
   "source": [
    "vwap_low = data['Low']\n",
    "vwap_low"
   ]
  },
  {
   "cell_type": "code",
   "execution_count": null,
   "metadata": {},
   "outputs": [],
   "source": [
    "vwap_open= data['Open']"
   ]
  },
  {
   "cell_type": "code",
   "execution_count": null,
   "metadata": {},
   "outputs": [],
   "source": [
    "vwap_close = data['Close']\n",
    "vwap_close"
   ]
  },
  {
   "cell_type": "code",
   "execution_count": null,
   "metadata": {},
   "outputs": [],
   "source": [
    "vwap_vol = data['Volume']\n",
    "vwap_vol"
   ]
  },
  {
   "cell_type": "code",
   "execution_count": null,
   "metadata": {},
   "outputs": [],
   "source": [
    "vwap_typ = (vwap_high + vwap_low + vwap_close)/3\n",
    "vwap_typ"
   ]
  },
  {
   "cell_type": "code",
   "execution_count": null,
   "metadata": {},
   "outputs": [],
   "source": [
    "vwap_money_flow = vwap_typ * vwap_vol\n",
    "vwap_money_flow"
   ]
  },
  {
   "cell_type": "code",
   "execution_count": null,
   "metadata": {},
   "outputs": [],
   "source": [
    "vwap_cumulative_money_flow = vwap_money_flow.cumsum()\n",
    "vwap_cumulative_volume = vwap_vol.cumsum()\n"
   ]
  },
  {
   "cell_type": "code",
   "execution_count": null,
   "metadata": {},
   "outputs": [],
   "source": [
    "vwap = vwap_cumulative_money_flow / vwap_cumulative_volume\n",
    "vwap"
   ]
  },
  {
   "cell_type": "code",
   "execution_count": null,
   "metadata": {},
   "outputs": [],
   "source": [
    "# Select the stocks you want to plot (TSLA, AAPL, BND, and TIP)\n",
    "selected_stocks = ['TSLA', 'AAPL', 'BND', 'TIP', 'SHY']\n",
    "\n",
    "# Create individual line charts for each selected stock\n",
    "for stock in selected_stocks:\n",
    "    plt.figure(figsize=(10, 6))\n",
    "    plt.plot(vwap.index, vwap[stock])\n",
    "    plt.xlabel('Date')\n",
    "    plt.ylabel('VWAP')\n",
    "    plt.title(f'VWAP for {stock}')\n",
    "    plt.grid()\n",
    "    plt.show()\n"
   ]
  },
  {
   "cell_type": "code",
   "execution_count": null,
   "metadata": {},
   "outputs": [],
   "source": [
    "for stock in selected_stocks:\n",
    "    plt.figure(figsize=(10, 6))\n",
    "    \n",
    "    # Create a DataFrame for the selected stock's data\n",
    "    stock_data = pd.DataFrame({\n",
    "        'Open': vwap_open[stock],\n",
    "        'High': vwap_high[stock],\n",
    "        'Low': vwap_low[stock],\n",
    "        'Close': vwap_close[stock],\n",
    "        'VWAP': vwap[stock]\n",
    "    }, index=vwap.index)\n",
    "    \n",
    "    # Plot the data using Seaborn\n",
    "    sns.lineplot(data=stock_data, dashes=False)\n",
    "    \n",
    "    plt.xlabel('Date')\n",
    "    plt.ylabel('Price')\n",
    "    plt.title(f'Price and VWAP Chart for {stock}')\n",
    "    plt.legend()\n",
    "    plt.show()"
   ]
  },
  {
   "cell_type": "code",
   "execution_count": null,
   "metadata": {},
   "outputs": [],
   "source": [
    "import mplfinance as mpf\n",
    "\n",
    "# Create individual candlestick charts for each selected stock\n",
    "for stock in selected_stocks:\n",
    "    ohlc_data = pd.DataFrame({\n",
    "        'Open': vwap_open[stock],\n",
    "        'High': vwap_high[stock],\n",
    "        'Low': vwap_low[stock],\n",
    "        'Close': vwap_close[stock]\n",
    "    }, index=vwap.index)\n",
    "    \n",
    "    mpf.plot(ohlc_data, type='candle', title=f'Candlestick Chart for {stock}', ylabel='Price', figsize=(10, 6))\n",
    "    plt.show()"
   ]
  },
  {
   "cell_type": "markdown",
   "metadata": {},
   "source": [
    "# Alpha"
   ]
  },
  {
   "cell_type": "markdown",
   "metadata": {},
   "source": [
    "### Spy benchmark"
   ]
  },
  {
   "cell_type": "code",
   "execution_count": null,
   "metadata": {},
   "outputs": [],
   "source": [
    "start_date = '2023-09-12'\n",
    "end_date = '2023-10-08'\n",
    "bench = pdr.DataReader('^GSPC', start=start_date, end=end_date)\n",
    "bench"
   ]
  },
  {
   "cell_type": "code",
   "execution_count": null,
   "metadata": {},
   "outputs": [],
   "source": [
    "# Change\n",
    "b_start='2014-01-01'\n",
    "b_end = '2023-10-08'\n",
    "b_data = pdr.DataReader('^GSPC', start=b_start, end=b_end)\n",
    "b_data = b_data['Close']\n",
    "b_df= b_data.resample('Y').last().pct_change()\n",
    "b_df\n",
    "b_r = b_df.mean()\n",
    "b_r\n",
    "#portfolio['Expected Return'] = e_r.reindex(portfolio['Ticker']).values"
   ]
  },
  {
   "cell_type": "code",
   "execution_count": null,
   "metadata": {},
   "outputs": [],
   "source": [
    "#benchmark returns annually\n",
    "b_df"
   ]
  },
  {
   "cell_type": "code",
   "execution_count": null,
   "metadata": {},
   "outputs": [],
   "source": [
    "#portfolio returns annual\n",
    "df_pr = df.mean(axis=1)\n",
    "df_pr"
   ]
  },
  {
   "cell_type": "code",
   "execution_count": null,
   "metadata": {},
   "outputs": [],
   "source": [
    "import statsmodels.api as sm\n",
    "\n",
    "# Remove rows with NaN values\n",
    "df = df.dropna()\n",
    "b_df = b_df.dropna()\n",
    "\n",
    "# Define the independent variable (benchmark returns)\n",
    "X = b_df\n",
    "\n",
    "# Add a constant for the intercept\n",
    "X = sm.add_constant(X)\n",
    "\n",
    "# Define the dependent variable (portfolio returns)\n",
    "Y = df_pr\n",
    "Y = Y.reindex(X.index)\n",
    "# Fit the regression model\n",
    "model = sm.OLS(Y, X).fit()\n",
    "\n",
    "# Get the regression summary\n",
    "print(model.summary())"
   ]
  },
  {
   "cell_type": "code",
   "execution_count": null,
   "metadata": {},
   "outputs": [],
   "source": [
    "#Alpha = (Portfolio Return - Benchmark Return) - Risk-Free Rate\n",
    "beta = model.params['Close']\n",
    "beta"
   ]
  },
  {
   "cell_type": "code",
   "execution_count": null,
   "metadata": {},
   "outputs": [],
   "source": [
    "alpha = p_e_r - (rf + beta * (b_r - rf))\n",
    "alpha"
   ]
  }
 ],
 "metadata": {
  "kernelspec": {
   "display_name": "msds_venv",
   "language": "python",
   "name": "python3"
  },
  "language_info": {
   "codemirror_mode": {
    "name": "ipython",
    "version": 3
   },
   "file_extension": ".py",
   "mimetype": "text/x-python",
   "name": "python",
   "nbconvert_exporter": "python",
   "pygments_lexer": "ipython3",
   "version": "3.11.5"
  }
 },
 "nbformat": 4,
 "nbformat_minor": 2
}
