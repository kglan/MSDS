{
 "cells": [
  {
   "cell_type": "markdown",
   "metadata": {},
   "source": [
    "# CUNY MSDS DATA618 - Quantative Finance\n",
    "\n",
    "## Week 3 : Portfolio \n",
    "\n",
    "### Keeno Glanville\n",
    "---------------------\n",
    "You are a 37-year-old bond trader in a major investment firm. Your investment portfolio, largely holding high return equities is valued today at $6.2 M. You have just read Jamie Dimon's financial hurricane warning and decided to rebalance your portfolio."
   ]
  },
  {
   "cell_type": "markdown",
   "metadata": {},
   "source": [
    "## Library to be used\n",
    "var 2023.6.2\n",
    "pip install var\n",
    "\n",
    "### Steps\n",
    "* Utilize yfinance to obtain historical data with date as index, and tickers as column. Chose one property (Adj Close)\n",
    "* Convert the data into a percent change\n",
    "* Adjust using weight of current portfolio"
   ]
  },
  {
   "cell_type": "code",
   "execution_count": 1,
   "metadata": {},
   "outputs": [
    {
     "name": "stderr",
     "output_type": "stream",
     "text": [
      "d:\\MSDS\\msds_venv\\Lib\\site-packages\\var\\methods.py:22: NumbaDeprecationWarning: \u001b[1mThe 'nopython' keyword argument was not supplied to the 'numba.jit' decorator. The implicit default value for this argument is currently False, but it will be changed to True in Numba 0.59.0. See https://numba.readthedocs.io/en/stable/reference/deprecation.html#deprecation-of-object-mode-fall-back-behaviour-when-using-jit for details.\u001b[0m\n",
      "  @jit(cache=True)\n",
      "d:\\MSDS\\msds_venv\\Lib\\site-packages\\var\\methods.py:53: NumbaDeprecationWarning: \u001b[1mThe 'nopython' keyword argument was not supplied to the 'numba.jit' decorator. The implicit default value for this argument is currently False, but it will be changed to True in Numba 0.59.0. See https://numba.readthedocs.io/en/stable/reference/deprecation.html#deprecation-of-object-mode-fall-back-behaviour-when-using-jit for details.\u001b[0m\n",
      "  @jit(cache=True)\n",
      "d:\\MSDS\\msds_venv\\Lib\\site-packages\\var\\methods.py:87: NumbaDeprecationWarning: \u001b[1mThe 'nopython' keyword argument was not supplied to the 'numba.jit' decorator. The implicit default value for this argument is currently False, but it will be changed to True in Numba 0.59.0. See https://numba.readthedocs.io/en/stable/reference/deprecation.html#deprecation-of-object-mode-fall-back-behaviour-when-using-jit for details.\u001b[0m\n",
      "  @jit(cache=True)\n",
      "d:\\MSDS\\msds_venv\\Lib\\site-packages\\var\\methods.py:129: NumbaDeprecationWarning: \u001b[1mThe 'nopython' keyword argument was not supplied to the 'numba.jit' decorator. The implicit default value for this argument is currently False, but it will be changed to True in Numba 0.59.0. See https://numba.readthedocs.io/en/stable/reference/deprecation.html#deprecation-of-object-mode-fall-back-behaviour-when-using-jit for details.\u001b[0m\n",
      "  @jit(cache=True)\n",
      "d:\\MSDS\\msds_venv\\Lib\\site-packages\\var\\methods.py:214: NumbaDeprecationWarning: \u001b[1mThe 'nopython' keyword argument was not supplied to the 'numba.jit' decorator. The implicit default value for this argument is currently False, but it will be changed to True in Numba 0.59.0. See https://numba.readthedocs.io/en/stable/reference/deprecation.html#deprecation-of-object-mode-fall-back-behaviour-when-using-jit for details.\u001b[0m\n",
      "  @jit(cache=True)\n"
     ]
    }
   ],
   "source": [
    "import pandas as pd\n",
    "import numpy as np\n",
    "import matplotlib.pyplot as plt\n",
    "import plotly.express as px\n",
    "import seaborn as sns\n",
    "import scipy.stats\n",
    "\n",
    "import yfinance as yf\n",
    "from var import VaR"
   ]
  },
  {
   "cell_type": "code",
   "execution_count": 2,
   "metadata": {},
   "outputs": [],
   "source": [
    "df = pd.read_csv('https://raw.githubusercontent.com/kglan/MSDS/main/DATA618/portfolio.csv')\n",
    "df = df[:-3]"
   ]
  },
  {
   "cell_type": "code",
   "execution_count": 3,
   "metadata": {},
   "outputs": [
    {
     "data": {
      "text/html": [
       "<div>\n",
       "<style scoped>\n",
       "    .dataframe tbody tr th:only-of-type {\n",
       "        vertical-align: middle;\n",
       "    }\n",
       "\n",
       "    .dataframe tbody tr th {\n",
       "        vertical-align: top;\n",
       "    }\n",
       "\n",
       "    .dataframe thead th {\n",
       "        text-align: right;\n",
       "    }\n",
       "</style>\n",
       "<table border=\"1\" class=\"dataframe\">\n",
       "  <thead>\n",
       "    <tr style=\"text-align: right;\">\n",
       "      <th></th>\n",
       "      <th>Asset</th>\n",
       "      <th>Ticker</th>\n",
       "      <th>Type</th>\n",
       "      <th>Subtype</th>\n",
       "      <th>Date</th>\n",
       "      <th>Price</th>\n",
       "      <th>Units</th>\n",
       "      <th>Amount</th>\n",
       "    </tr>\n",
       "  </thead>\n",
       "  <tbody>\n",
       "    <tr>\n",
       "      <th>0</th>\n",
       "      <td>Apple Inc.</td>\n",
       "      <td>AAPL</td>\n",
       "      <td>Equity</td>\n",
       "      <td>Technology</td>\n",
       "      <td>12-Sep-23</td>\n",
       "      <td>$176.30</td>\n",
       "      <td>648</td>\n",
       "      <td>$114,242</td>\n",
       "    </tr>\n",
       "    <tr>\n",
       "      <th>1</th>\n",
       "      <td>Amazon.com Inc.</td>\n",
       "      <td>AMZN</td>\n",
       "      <td>Equity</td>\n",
       "      <td>E-commerce</td>\n",
       "      <td>12-Sep-23</td>\n",
       "      <td>$142.32</td>\n",
       "      <td>1,000</td>\n",
       "      <td>$142,320</td>\n",
       "    </tr>\n",
       "    <tr>\n",
       "      <th>2</th>\n",
       "      <td>Microsoft Corporation</td>\n",
       "      <td>MSFT</td>\n",
       "      <td>Equity</td>\n",
       "      <td>Technology</td>\n",
       "      <td>12-Sep-23</td>\n",
       "      <td>$331.77</td>\n",
       "      <td>500</td>\n",
       "      <td>$165,885</td>\n",
       "    </tr>\n",
       "    <tr>\n",
       "      <th>3</th>\n",
       "      <td>Alphabet Inc.</td>\n",
       "      <td>GOOGL</td>\n",
       "      <td>Equity</td>\n",
       "      <td>Technology</td>\n",
       "      <td>12-Sep-23</td>\n",
       "      <td>$135.19</td>\n",
       "      <td>800</td>\n",
       "      <td>$108,152</td>\n",
       "    </tr>\n",
       "    <tr>\n",
       "      <th>4</th>\n",
       "      <td>META</td>\n",
       "      <td>META</td>\n",
       "      <td>Equity</td>\n",
       "      <td>Technology</td>\n",
       "      <td>12-Sep-23</td>\n",
       "      <td>$324.40</td>\n",
       "      <td>500</td>\n",
       "      <td>$162,200</td>\n",
       "    </tr>\n",
       "  </tbody>\n",
       "</table>\n",
       "</div>"
      ],
      "text/plain": [
       "                   Asset Ticker    Type     Subtype       Date     Price  \\\n",
       "0             Apple Inc.   AAPL  Equity  Technology  12-Sep-23  $176.30    \n",
       "1        Amazon.com Inc.   AMZN  Equity  E-commerce  12-Sep-23  $142.32    \n",
       "2  Microsoft Corporation   MSFT  Equity  Technology  12-Sep-23  $331.77    \n",
       "3          Alphabet Inc.  GOOGL  Equity  Technology  12-Sep-23  $135.19    \n",
       "4                   META   META  Equity  Technology  12-Sep-23  $324.40    \n",
       "\n",
       "   Units     Amount  \n",
       "0    648  $114,242   \n",
       "1  1,000  $142,320   \n",
       "2    500  $165,885   \n",
       "3    800  $108,152   \n",
       "4    500  $162,200   "
      ]
     },
     "execution_count": 3,
     "metadata": {},
     "output_type": "execute_result"
    }
   ],
   "source": [
    "df.head()"
   ]
  },
  {
   "cell_type": "code",
   "execution_count": 4,
   "metadata": {},
   "outputs": [
    {
     "name": "stdout",
     "output_type": "stream",
     "text": [
      "[*********************100%%**********************]  1 of 1 completed\n",
      "[*********************100%%**********************]  1 of 1 completed\n",
      "[*********************100%%**********************]  1 of 1 completed\n",
      "[*********************100%%**********************]  1 of 1 completed\n",
      "[*********************100%%**********************]  1 of 1 completed\n",
      "[*********************100%%**********************]  1 of 1 completed\n",
      "[*********************100%%**********************]  1 of 1 completed\n",
      "[*********************100%%**********************]  1 of 1 completed\n",
      "[*********************100%%**********************]  1 of 1 completed\n",
      "[*********************100%%**********************]  1 of 1 completed\n",
      "[*********************100%%**********************]  1 of 1 completed\n",
      "[*********************100%%**********************]  1 of 1 completed\n",
      "[*********************100%%**********************]  1 of 1 completed\n",
      "[*********************100%%**********************]  1 of 1 completed\n",
      "[*********************100%%**********************]  1 of 1 completed\n",
      "[*********************100%%**********************]  1 of 1 completed\n",
      "[*********************100%%**********************]  1 of 1 completed\n",
      "[*********************100%%**********************]  1 of 1 completed\n",
      "[*********************100%%**********************]  1 of 1 completed\n",
      "[*********************100%%**********************]  1 of 1 completed\n",
      "[*********************100%%**********************]  1 of 1 completed\n",
      "[*********************100%%**********************]  1 of 1 completed\n",
      "[*********************100%%**********************]  1 of 1 completed\n",
      "[*********************100%%**********************]  1 of 1 completed\n",
      "[*********************100%%**********************]  1 of 1 completed\n",
      "[*********************100%%**********************]  1 of 1 completed\n",
      "[*********************100%%**********************]  1 of 1 completed\n",
      "[*********************100%%**********************]  1 of 1 completed\n",
      "[*********************100%%**********************]  1 of 1 completed\n",
      "[*********************100%%**********************]  1 of 1 completed\n",
      "[*********************100%%**********************]  1 of 1 completed\n",
      "[*********************100%%**********************]  1 of 1 completed\n",
      "[*********************100%%**********************]  1 of 1 completed\n",
      "[*********************100%%**********************]  1 of 1 completed\n",
      "[*********************100%%**********************]  1 of 1 completed\n",
      "[*********************100%%**********************]  1 of 1 completed\n",
      "[*********************100%%**********************]  1 of 1 completed\n",
      "[*********************100%%**********************]  1 of 1 completed\n",
      "[*********************100%%**********************]  1 of 1 completed\n",
      "[*********************100%%**********************]  1 of 1 completed\n"
     ]
    }
   ],
   "source": [
    "# List of all tickers from your provided data\n",
    "tickers = ['AAPL', 'AMZN', 'MSFT', 'GOOGL', 'META', 'TSLA', 'NVDA', 'AMD', 'JPM', 'JNJ', 'V', 'PG', 'JCI', 'GE', 'KO', 'VZ', 'BA', 'T', 'PFE', 'NFLX', 'BABA', 'INTC', 'DIS', 'XOM', 'F', 'GS', 'HD', 'IBM', 'SBUX', 'CSCO', 'LQD', 'HYG', 'IEF', 'BND', 'SHY', 'VCSH', 'BKLN', 'TIP', 'SCHP', 'TLT']\n",
    "\n",
    "# Define the date range for historical data\n",
    "start_date = '2022-01-01'\n",
    "end_date = '2023-09-12'\n",
    "\n",
    "# Create an empty DataFrame to store the historical data\n",
    "historical_data = pd.DataFrame()\n",
    "\n",
    "# Loop through the tickers, download historical data, and concatenate it to the DataFrame\n",
    "for ticker in tickers:\n",
    "    data = yf.download(ticker, start=start_date, end=end_date)\n",
    "    historical_data[ticker] = data[\"Adj Close\"]"
   ]
  },
  {
   "cell_type": "code",
   "execution_count": 5,
   "metadata": {},
   "outputs": [],
   "source": [
    "historical_data['Cash'] = 1"
   ]
  },
  {
   "cell_type": "code",
   "execution_count": 6,
   "metadata": {},
   "outputs": [],
   "source": [
    "# Calculate daily returns from adjusted closing prices\n",
    "daily_returns = historical_data.pct_change()\n",
    "\n",
    "# Remove the first row (NaN) since there's no return for the first day\n",
    "daily_returns = daily_returns[1:]\n",
    "daily_returns.index = pd.to_datetime(daily_returns.index)"
   ]
  },
  {
   "cell_type": "code",
   "execution_count": 7,
   "metadata": {},
   "outputs": [],
   "source": [
    "# Remove dollar signs and commas from the 'Amount' column and convert to float\n",
    "df['Amount'] = df['Amount'].str.replace('[$,]', '', regex=True).astype(float)\n",
    "total_portfolio_value = df['Amount'].sum()\n",
    "\n",
    "\n",
    "\n",
    "# Weight of Portfolio\n",
    "df['Weight'] = df['Amount'] / total_portfolio_value\n",
    "weights = df['Weight'].values"
   ]
  },
  {
   "cell_type": "code",
   "execution_count": 8,
   "metadata": {},
   "outputs": [
    {
     "data": {
      "text/plain": [
       "<VaR - μ: 0.01%, σ: 1.1395%, Portfolio σ: 1.1408%>"
      ]
     },
     "execution_count": 8,
     "metadata": {},
     "output_type": "execute_result"
    }
   ],
   "source": [
    "var = VaR(daily_returns, weights, alpha=[0.05])\n",
    "var"
   ]
  },
  {
   "cell_type": "code",
   "execution_count": 10,
   "metadata": {},
   "outputs": [
    {
     "name": "stdout",
     "output_type": "stream",
     "text": [
      "            VaR(95.0)  CVaR(95.0)  CDaR(95.0)\n",
      "2023-09-11  -0.018029   -0.024314   -0.240734\n",
      "            VaR(95.0)  CVaR(95.0)  CDaR(95.0)\n",
      "2023-09-11  -0.037458         NaN   -0.240734\n",
      "            VaR(95.0)  CVaR(95.0)  CDaR(95.0)\n",
      "2023-09-11  -0.018614   -0.023436   -0.240734\n",
      "            VaR(95.0)  CVaR(95.0)  CDaR(95.0)\n",
      "2023-09-11  -0.027276   -0.029759   -0.671511\n"
     ]
    }
   ],
   "source": [
    "# Calculate VaR using various methods\n",
    "print(var.historic(), var.parametric(), var.monte_carlo(), var.monte_carlo(stressed=True), sep='\\n')\n"
   ]
  },
  {
   "cell_type": "markdown",
   "metadata": {},
   "source": [
    "The values provided in your results are the calculated estimates of these risk metrics for a specific date, which is September 11, 2023. The negative values indicate potential losses in the portfolio "
   ]
  }
 ],
 "metadata": {
  "kernelspec": {
   "display_name": "msds_venv",
   "language": "python",
   "name": "python3"
  },
  "language_info": {
   "codemirror_mode": {
    "name": "ipython",
    "version": 3
   },
   "file_extension": ".py",
   "mimetype": "text/x-python",
   "name": "python",
   "nbconvert_exporter": "python",
   "pygments_lexer": "ipython3",
   "version": "3.11.5"
  }
 },
 "nbformat": 4,
 "nbformat_minor": 2
}
